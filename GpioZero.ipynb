{
  "nbformat": 4,
  "nbformat_minor": 0,
  "metadata": {
    "colab": {
      "name": "GpioZero.ipynb",
      "provenance": [],
      "authorship_tag": "ABX9TyMu6NhedWRyBzM6eeAp9cN5",
      "include_colab_link": true
    },
    "kernelspec": {
      "name": "python3",
      "display_name": "Python 3"
    },
    "language_info": {
      "name": "python"
    }
  },
  "cells": [
    {
      "cell_type": "markdown",
      "metadata": {
        "id": "view-in-github",
        "colab_type": "text"
      },
      "source": [
        "<a href=\"https://colab.research.google.com/github/MariaSanchezQ/Tareas_Python/blob/main/GpioZero.ipynb\" target=\"_parent\"><img src=\"https://colab.research.google.com/assets/colab-badge.svg\" alt=\"Open In Colab\"/></a>"
      ]
    },
    {
      "cell_type": "code",
      "metadata": {
        "id": "ZVdFnmDN1r7K",
        "colab": {
          "base_uri": "https://localhost:8080/",
          "height": 367
        },
        "outputId": "fe3c7966-a5f2-4e70-d21a-f4e1ffa2d705"
      },
      "source": [
        "from gpiozero import LED\n",
        "from gpiozero import Button\n",
        "from signal import pause\n",
        "\n",
        "LedRojo=LED(14,initial_value=False)\n",
        "LedVerde=LED(15,initial_value=False)\n",
        "LedBlanco=LED(18,initial_value=False)\n",
        "BtnR=Button(2,hold_time=1,hold_repeat=True)\n",
        "BtnG=Button(3,hold_time=1,hold_repeat=True)\n",
        "BtnB=Button(4,hold_time=1,hold_repeat=True)\n",
        "\n",
        "def on_offBtnR():\n",
        "  LedRojo.toggle()\n",
        "\n",
        "def parpadearLedRojo():\n",
        "  LedRojo.blink(on_time=1.5, off_time=1.5, n=10)\n",
        "  print(\"Parpadeo led rojo\")\n",
        "\n",
        "def on_offBtnG():\n",
        "  LedVerde.toggle()\n",
        "\n",
        "def parpadearLedVerde():\n",
        "  LedVerde.blink(on_time=1.5, off_time=1.5, n=10)\n",
        "  print(\"Parpadeo led verde\")\n",
        "\n",
        "def on_offBtnB():\n",
        "  LedBlanco.toggle()\n",
        "\n",
        "def parpadearLedAzul():\n",
        "  LedBlanco.blink(on_time=1.5, off_time=1.5, n=10)\n",
        "  print(\"Parpadeo led blanco\")\n",
        "\n",
        "try:\n",
        "  BtnR.when_pressed = on_offBtnR\n",
        "  BtnR.when_held=parpadearLedRojo\n",
        "  BtnG.when_pressed=on_offBntG\n",
        "  BtnG.when_held=parpadearLedVerde\n",
        "  BtnB.when_pressed=on_offBtnB\n",
        "  BtnB.when_held=parpadearLedBlanco\n",
        "  pause()\n",
        "\n",
        "finally:\n",
        "  pass"
      ],
      "execution_count": null,
      "outputs": [
        {
          "output_type": "error",
          "ename": "ModuleNotFoundError",
          "evalue": "ignored",
          "traceback": [
            "\u001b[0;31m---------------------------------------------------------------------------\u001b[0m",
            "\u001b[0;31mModuleNotFoundError\u001b[0m                       Traceback (most recent call last)",
            "\u001b[0;32m<ipython-input-2-6ebbd5052ed7>\u001b[0m in \u001b[0;36m<module>\u001b[0;34m()\u001b[0m\n\u001b[0;32m----> 1\u001b[0;31m \u001b[0;32mfrom\u001b[0m \u001b[0mgpiozero\u001b[0m \u001b[0;32mimport\u001b[0m \u001b[0mLED\u001b[0m\u001b[0;34m\u001b[0m\u001b[0;34m\u001b[0m\u001b[0m\n\u001b[0m\u001b[1;32m      2\u001b[0m \u001b[0;32mfrom\u001b[0m \u001b[0mgpiozero\u001b[0m \u001b[0;32mimport\u001b[0m \u001b[0mButton\u001b[0m\u001b[0;34m\u001b[0m\u001b[0;34m\u001b[0m\u001b[0m\n\u001b[1;32m      3\u001b[0m \u001b[0;32mfrom\u001b[0m \u001b[0msignal\u001b[0m \u001b[0;32mimport\u001b[0m \u001b[0mpause\u001b[0m\u001b[0;34m\u001b[0m\u001b[0;34m\u001b[0m\u001b[0m\n\u001b[1;32m      4\u001b[0m \u001b[0;34m\u001b[0m\u001b[0m\n\u001b[1;32m      5\u001b[0m \u001b[0mLedRojo\u001b[0m\u001b[0;34m=\u001b[0m\u001b[0mLED\u001b[0m\u001b[0;34m(\u001b[0m\u001b[0;36m14\u001b[0m\u001b[0;34m,\u001b[0m\u001b[0minitial_value\u001b[0m\u001b[0;34m=\u001b[0m\u001b[0;32mFalse\u001b[0m\u001b[0;34m)\u001b[0m\u001b[0;34m\u001b[0m\u001b[0;34m\u001b[0m\u001b[0m\n",
            "\u001b[0;31mModuleNotFoundError\u001b[0m: No module named 'gpiozero'",
            "",
            "\u001b[0;31m---------------------------------------------------------------------------\u001b[0;32m\nNOTE: If your import is failing due to a missing package, you can\nmanually install dependencies using either !pip or !apt.\n\nTo view examples of installing some common dependencies, click the\n\"Open Examples\" button below.\n\u001b[0;31m---------------------------------------------------------------------------\u001b[0m\n"
          ],
          "errorDetails": {
            "actions": [
              {
                "action": "open_url",
                "actionText": "Open Examples",
                "url": "/notebooks/snippets/importing_libraries.ipynb"
              }
            ]
          }
        }
      ]
    }
  ]
}