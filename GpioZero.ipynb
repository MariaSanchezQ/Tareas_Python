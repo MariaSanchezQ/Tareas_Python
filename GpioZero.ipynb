{
  "nbformat": 4,
  "nbformat_minor": 0,
  "metadata": {
    "colab": {
      "name": "GpioZero.ipynb",
      "provenance": [],
      "authorship_tag": "ABX9TyNCqoq6jUpCuagS8YixDi03",
      "include_colab_link": true
    },
    "kernelspec": {
      "name": "python3",
      "display_name": "Python 3"
    },
    "language_info": {
      "name": "python"
    }
  },
  "cells": [
    {
      "cell_type": "markdown",
      "metadata": {
        "id": "view-in-github",
        "colab_type": "text"
      },
      "source": [
        "<a href=\"https://colab.research.google.com/github/MariaSanchezQ/Tareas_Python/blob/main/GpioZero.ipynb\" target=\"_parent\"><img src=\"https://colab.research.google.com/assets/colab-badge.svg\" alt=\"Open In Colab\"/></a>"
      ]
    },
    {
      "cell_type": "code",
      "metadata": {
        "id": "ZVdFnmDN1r7K"
      },
      "source": [
        "from gpiozero import LED\n",
        "from gpiozero import Button\n",
        "from signal import pause\n",
        "\n",
        "LedRojo=LED(14,initial_value=False)\n",
        "LedVerde=LED(15,initial_value=False)\n",
        "LedBlanco=LED(18,initial_value=False)\n",
        "BtnR=Button(2,hold_time=1,hold_repeat=True)\n",
        "BtnG=Button(3,hold_time=1,hold_repeat=True)\n",
        "BtnB=Button(4,hold_time=1,hold_repeat=True)\n",
        "\n",
        "def on_offBtnR():\n",
        "  LedRojo.toggle()\n",
        "\n",
        "def parpadearLedRojo():\n",
        "  LedRojo.blink(on_time=1.5, off_time=1.5, n=10)\n",
        "  print(\"Parpadeo led rojo\")\n",
        "\n",
        "def on_offBtnG():\n",
        "  LedVerde.toggle()\n",
        "\n",
        "def parpadearLedVerde():\n",
        "  LedVerde.blink(on_time=1.5, off_time=1.5, n=10)\n",
        "  print(\"Parpadeo led verde\")\n",
        "\n",
        "def on_offBtnB():\n",
        "  LedBlanco.toggle()\n",
        "\n",
        "def parpadearLedBlanco():\n",
        "  LedBlanco.blink(on_time=1.5, off_time=1.5, n=10)\n",
        "  print(\"Parpadeo led blanco\")\n",
        "\n",
        "try:\n",
        "  BtnR.when_pressed = on_offBtnR\n",
        "  BtnR.when_held=parpadearLedRojo\n",
        "  BtnG.when_pressed=on_offBntG\n",
        "  BtnG.when_held=parpadearLedVerde\n",
        "  BtnB.when_pressed=on_offBtnB\n",
        "  BtnB.when_held=parpadearLedBlanco\n",
        "  pause()\n",
        "\n",
        "finally:\n",
        "  pass"
      ],
      "execution_count": null,
      "outputs": []
    }
  ]
}