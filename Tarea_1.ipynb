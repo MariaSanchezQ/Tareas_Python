{
  "nbformat": 4,
  "nbformat_minor": 0,
  "metadata": {
    "colab": {
      "name": "Tarea_1.ipynb",
      "provenance": [],
      "authorship_tag": "ABX9TyPS2IAjleoLHO1wkUXK/KmW",
      "include_colab_link": true
    },
    "kernelspec": {
      "name": "python3",
      "display_name": "Python 3"
    },
    "language_info": {
      "name": "python"
    }
  },
  "cells": [
    {
      "cell_type": "markdown",
      "metadata": {
        "id": "view-in-github",
        "colab_type": "text"
      },
      "source": [
        "<a href=\"https://colab.research.google.com/github/MariaSanchezQ/Tareas_Python/blob/main/Tarea_1.ipynb\" target=\"_parent\"><img src=\"https://colab.research.google.com/assets/colab-badge.svg\" alt=\"Open In Colab\"/></a>"
      ]
    },
    {
      "cell_type": "code",
      "metadata": {
        "colab": {
          "base_uri": "https://localhost:8080/"
        },
        "id": "WJz5lqGgRYe_",
        "outputId": "0cd36b47-a4a3-4d0a-83ea-1a3d5df2c1eb"
      },
      "source": [
        "import os\n",
        "os.name\n"
      ],
      "execution_count": 3,
      "outputs": [
        {
          "output_type": "execute_result",
          "data": {
            "text/plain": [
              "posix.uname_result(sysname='Linux', nodename='876d543f9175', release='5.4.104+', version='#1 SMP Sat Jun 5 09:50:34 PDT 2021', machine='x86_64')"
            ]
          },
          "metadata": {},
          "execution_count": 3
        }
      ]
    },
    {
      "cell_type": "code",
      "metadata": {
        "colab": {
          "base_uri": "https://localhost:8080/"
        },
        "id": "zuh5blr3Them",
        "outputId": "61e81540-d139-44fd-f931-ea97f4f968dd"
      },
      "source": [
        "os.listdir()"
      ],
      "execution_count": 6,
      "outputs": [
        {
          "output_type": "execute_result",
          "data": {
            "text/plain": [
              "['.config', 'sample_data']"
            ]
          },
          "metadata": {},
          "execution_count": 6
        }
      ]
    },
    {
      "cell_type": "code",
      "metadata": {
        "id": "eNThigMKT9sX"
      },
      "source": [
        "os.mkdir('Modulo1')\n",
        "os.mkdir('Modulo2')\n",
        "os.mkdir('Modulo3')"
      ],
      "execution_count": 9,
      "outputs": []
    },
    {
      "cell_type": "code",
      "metadata": {
        "colab": {
          "base_uri": "https://localhost:8080/"
        },
        "id": "a104k1vSWCUf",
        "outputId": "6b63add0-54e3-4162-bb0b-0fcff8a32cdf"
      },
      "source": [
        "os.listdir()"
      ],
      "execution_count": 8,
      "outputs": [
        {
          "output_type": "execute_result",
          "data": {
            "text/plain": [
              "['.config', 'Modulo 2', 'Modulo 3', 'Modulo 1', 'sample_data']"
            ]
          },
          "metadata": {},
          "execution_count": 8
        }
      ]
    },
    {
      "cell_type": "code",
      "metadata": {
        "id": "SCVBPeszXU7D"
      },
      "source": [
        "os.chdir('/content/Modulo1')\n",
        "os.mkdir('Comentario1')"
      ],
      "execution_count": null,
      "outputs": []
    },
    {
      "cell_type": "code",
      "metadata": {
        "id": "8C89rnPIXAI8"
      },
      "source": [
        "os.chdir('/content/Modulo2')\n",
        "os.mkdir('Comentario1')"
      ],
      "execution_count": 16,
      "outputs": []
    },
    {
      "cell_type": "code",
      "metadata": {
        "id": "yCLTiadMXgDR"
      },
      "source": [
        "os.chdir('/content/Modulo3')\n",
        "os.mkdir('Comentario1')"
      ],
      "execution_count": 17,
      "outputs": []
    }
  ]
}