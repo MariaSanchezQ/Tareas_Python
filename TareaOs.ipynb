{
  "nbformat": 4,
  "nbformat_minor": 0,
  "metadata": {
    "colab": {
      "name": "Tarea_1.ipynb",
      "provenance": [],
      "authorship_tag": "ABX9TyNYIzkeWXwVvljzfHzUVHU2",
      "include_colab_link": true
    },
    "kernelspec": {
      "name": "python3",
      "display_name": "Python 3"
    },
    "language_info": {
      "name": "python"
    }
  },
  "cells": [
    {
      "cell_type": "markdown",
      "metadata": {
        "id": "view-in-github",
        "colab_type": "text"
      },
      "source": [
        "<a href=\"https://colab.research.google.com/github/MariaSanchezQ/Tareas_Python/blob/main/TareaOs.ipynb\" target=\"_parent\"><img src=\"https://colab.research.google.com/assets/colab-badge.svg\" alt=\"Open In Colab\"/></a>"
      ]
    },
    {
      "cell_type": "code",
      "metadata": {
        "colab": {
          "base_uri": "https://localhost:8080/"
        },
        "id": "WJz5lqGgRYe_",
        "outputId": "0cd36b47-a4a3-4d0a-83ea-1a3d5df2c1eb"
      },
      "source": [
        "import os\n",
        "os.name\n"
      ],
      "execution_count": 3,
      "outputs": [
        {
          "output_type": "execute_result",
          "data": {
            "text/plain": [
              "posix.uname_result(sysname='Linux', nodename='876d543f9175', release='5.4.104+', version='#1 SMP Sat Jun 5 09:50:34 PDT 2021', machine='x86_64')"
            ]
          },
          "metadata": {},
          "execution_count": 3
        }
      ]
    },
    {
      "cell_type": "code",
      "metadata": {
        "colab": {
          "base_uri": "https://localhost:8080/"
        },
        "id": "zuh5blr3Them",
        "outputId": "61e81540-d139-44fd-f931-ea97f4f968dd"
      },
      "source": [
        "os.listdir()"
      ],
      "execution_count": 6,
      "outputs": [
        {
          "output_type": "execute_result",
          "data": {
            "text/plain": [
              "['.config', 'sample_data']"
            ]
          },
          "metadata": {},
          "execution_count": 6
        }
      ]
    },
    {
      "cell_type": "code",
      "metadata": {
        "id": "eNThigMKT9sX"
      },
      "source": [
        "os.mkdir('Modulo1')\n",
        "os.mkdir('Modulo2')\n",
        "os.mkdir('Modulo3')"
      ],
      "execution_count": 9,
      "outputs": []
    },
    {
      "cell_type": "code",
      "metadata": {
        "colab": {
          "base_uri": "https://localhost:8080/"
        },
        "id": "a104k1vSWCUf",
        "outputId": "6b63add0-54e3-4162-bb0b-0fcff8a32cdf"
      },
      "source": [
        "os.listdir()"
      ],
      "execution_count": 8,
      "outputs": [
        {
          "output_type": "execute_result",
          "data": {
            "text/plain": [
              "['.config', 'Modulo 2', 'Modulo 3', 'Modulo 1', 'sample_data']"
            ]
          },
          "metadata": {},
          "execution_count": 8
        }
      ]
    },
    {
      "cell_type": "code",
      "metadata": {
        "id": "SCVBPeszXU7D"
      },
      "source": [
        "os.chdir('/content/Modulo1')\n",
        "os.mkdir('Comentario1')"
      ],
      "execution_count": null,
      "outputs": []
    },
    {
      "cell_type": "code",
      "metadata": {
        "id": "8C89rnPIXAI8"
      },
      "source": [
        "os.chdir('/content/Modulo2')\n",
        "os.mkdir('Comentario1')"
      ],
      "execution_count": 16,
      "outputs": []
    },
    {
      "cell_type": "code",
      "metadata": {
        "id": "yCLTiadMXgDR"
      },
      "source": [
        "os.chdir('/content/Modulo3')\n",
        "os.mkdir('Comentario1')"
      ],
      "execution_count": 17,
      "outputs": []
    },
    {
      "cell_type": "code",
      "metadata": {
        "id": "KUVY_ruAZuwH"
      },
      "source": [
        "file = open(\"/content/Modulo1/Comentario2.txt\", \"w\")"
      ],
      "execution_count": 23,
      "outputs": []
    },
    {
      "cell_type": "code",
      "metadata": {
        "id": "vWWRD4D-a2ea"
      },
      "source": [
        "file = open(\"/content/Modulo2/Comentario2.txt\", \"w\")"
      ],
      "execution_count": 24,
      "outputs": []
    },
    {
      "cell_type": "code",
      "metadata": {
        "id": "A9HVAD6La2uy"
      },
      "source": [
        "file = open(\"/content/Modulo3/Comentario2.txt\", \"w\")"
      ],
      "execution_count": 26,
      "outputs": []
    },
    {
      "cell_type": "code",
      "metadata": {
        "colab": {
          "base_uri": "https://localhost:8080/"
        },
        "id": "LPXpq9sMbOP_",
        "outputId": "6b76f600-8057-46a5-eb82-d26b191257b9"
      },
      "source": [
        "os.listdir('/content')"
      ],
      "execution_count": 28,
      "outputs": [
        {
          "output_type": "execute_result",
          "data": {
            "text/plain": [
              "['.config',\n",
              " 'Modulo1',\n",
              " 'Modulo2',\n",
              " 'Modulo3',\n",
              " '.ipynb_checkpoints',\n",
              " 'sample_data']"
            ]
          },
          "metadata": {},
          "execution_count": 28
        }
      ]
    },
    {
      "cell_type": "code",
      "metadata": {
        "colab": {
          "base_uri": "https://localhost:8080/"
        },
        "id": "rQ83m1kUbUcR",
        "outputId": "8a4818de-7f70-4d64-ad8c-70116e47a394"
      },
      "source": [
        "os.listdir('/content/Modulo1')"
      ],
      "execution_count": 31,
      "outputs": [
        {
          "output_type": "execute_result",
          "data": {
            "text/plain": [
              "['Comentario2.txt', 'Comentario1']"
            ]
          },
          "metadata": {},
          "execution_count": 31
        }
      ]
    },
    {
      "cell_type": "code",
      "metadata": {
        "colab": {
          "base_uri": "https://localhost:8080/"
        },
        "id": "saMXg0lTbhCm",
        "outputId": "50e61e85-08bb-4565-e8e3-7c97059c94c8"
      },
      "source": [
        "os.listdir('/content/Modulo2')"
      ],
      "execution_count": 32,
      "outputs": [
        {
          "output_type": "execute_result",
          "data": {
            "text/plain": [
              "['Comentario2.txt', 'Comentario1']"
            ]
          },
          "metadata": {},
          "execution_count": 32
        }
      ]
    },
    {
      "cell_type": "code",
      "metadata": {
        "colab": {
          "base_uri": "https://localhost:8080/"
        },
        "id": "4fHhoZ9dbhIi",
        "outputId": "e1960f01-17db-49e2-b651-24e09e941342"
      },
      "source": [
        "os.listdir('/content/Modulo3')"
      ],
      "execution_count": 33,
      "outputs": [
        {
          "output_type": "execute_result",
          "data": {
            "text/plain": [
              "['Comentario2.txt', 'Comentario1']"
            ]
          },
          "metadata": {},
          "execution_count": 33
        }
      ]
    },
    {
      "cell_type": "code",
      "metadata": {
        "colab": {
          "base_uri": "https://localhost:8080/"
        },
        "id": "IWM9JH-xbmd7",
        "outputId": "0fe23756-e088-40c4-b2ee-311cd460f1c7"
      },
      "source": [
        "os.chdir('/content')\n",
        "os.rename('Modulo1','Modulación')\n",
        "os.listdir()"
      ],
      "execution_count": 36,
      "outputs": [
        {
          "output_type": "execute_result",
          "data": {
            "text/plain": [
              "['.config',\n",
              " 'Modulación',\n",
              " 'Modulo2',\n",
              " 'Modulo3',\n",
              " '.ipynb_checkpoints',\n",
              " 'sample_data']"
            ]
          },
          "metadata": {},
          "execution_count": 36
        }
      ]
    },
    {
      "cell_type": "code",
      "metadata": {
        "colab": {
          "base_uri": "https://localhost:8080/"
        },
        "id": "QCQvZ1vscUWB",
        "outputId": "e61fcd78-4ec2-40b5-b2e7-0dca085db9f7"
      },
      "source": [
        "os.chdir('/content')\n",
        "os.rename('Modulo2','Transición')\n",
        "os.listdir()"
      ],
      "execution_count": 37,
      "outputs": [
        {
          "output_type": "execute_result",
          "data": {
            "text/plain": [
              "['.config',\n",
              " 'Modulación',\n",
              " 'Modulo3',\n",
              " 'Transición',\n",
              " '.ipynb_checkpoints',\n",
              " 'sample_data']"
            ]
          },
          "metadata": {},
          "execution_count": 37
        }
      ]
    },
    {
      "cell_type": "code",
      "metadata": {
        "colab": {
          "base_uri": "https://localhost:8080/"
        },
        "id": "a9WXiPEScUdE",
        "outputId": "d44dc4be-6548-4c34-f56a-c284d2d66371"
      },
      "source": [
        "os.chdir('/content')\n",
        "os.rename('Modulo3','CopiaSeguridad')\n",
        "os.listdir()"
      ],
      "execution_count": 38,
      "outputs": [
        {
          "output_type": "execute_result",
          "data": {
            "text/plain": [
              "['.config',\n",
              " 'CopiaSeguridad',\n",
              " 'Modulación',\n",
              " 'Transición',\n",
              " '.ipynb_checkpoints',\n",
              " 'sample_data']"
            ]
          },
          "metadata": {},
          "execution_count": 38
        }
      ]
    },
    {
      "cell_type": "code",
      "metadata": {
        "colab": {
          "base_uri": "https://localhost:8080/"
        },
        "id": "e73hMOk3cl-0",
        "outputId": "42c2813b-3156-447c-f81b-83aa5f8abcd8"
      },
      "source": [
        "os.stat('/content/Modulación')"
      ],
      "execution_count": 39,
      "outputs": [
        {
          "output_type": "execute_result",
          "data": {
            "text/plain": [
              "os.stat_result(st_mode=16877, st_ino=6029315, st_dev=50, st_nlink=3, st_uid=0, st_gid=0, st_size=4096, st_atime=1629326268, st_mtime=1629326264, st_ctime=1629326654)"
            ]
          },
          "metadata": {},
          "execution_count": 39
        }
      ]
    }
  ]
}