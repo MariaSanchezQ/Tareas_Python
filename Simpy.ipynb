{
  "nbformat": 4,
  "nbformat_minor": 0,
  "metadata": {
    "colab": {
      "name": "Untitled2.ipynb",
      "provenance": [],
      "authorship_tag": "ABX9TyP1VdXZ4/GAtaFbRgjzASJ5",
      "include_colab_link": true
    },
    "kernelspec": {
      "name": "python3",
      "display_name": "Python 3"
    },
    "language_info": {
      "name": "python"
    }
  },
  "cells": [
    {
      "cell_type": "markdown",
      "metadata": {
        "id": "view-in-github",
        "colab_type": "text"
      },
      "source": [
        "<a href=\"https://colab.research.google.com/github/MariaSanchezQ/Tareas_Python/blob/main/Simpy.ipynb\" target=\"_parent\"><img src=\"https://colab.research.google.com/assets/colab-badge.svg\" alt=\"Open In Colab\"/></a>"
      ]
    },
    {
      "cell_type": "markdown",
      "metadata": {
        "id": "dTMasguQxOoZ"
      },
      "source": [
        "# Ejercicio 1.a. Derivar:"
      ]
    },
    {
      "cell_type": "code",
      "metadata": {
        "colab": {
          "base_uri": "https://localhost:8080/",
          "height": 242
        },
        "id": "2gOYgd0fg29K",
        "outputId": "818292cd-acba-45c2-8fe9-476d4f566120"
      },
      "source": [
        "from sympy import init_session\n",
        "from sympy import *\n",
        "init_session(use_latex=True)\n",
        "type(x)\n",
        "\n",
        "#Derivar:\n",
        "#Punto 1\n",
        "expressionn=(2*(x)**4+34*(x)**3+23)\n",
        "expressionn.diff()\n",
        "\n",
        "Derivative(expressionn,x,2)\n",
        "expressionn.diff(x,2)"
      ],
      "execution_count": 38,
      "outputs": [
        {
          "output_type": "stream",
          "name": "stdout",
          "text": [
            "IPython console for SymPy 1.7.1 (Python 3.7.11-64-bit) (ground types: python)\n",
            "\n",
            "These commands were executed:\n",
            ">>> from __future__ import division\n",
            ">>> from sympy import *\n",
            ">>> x, y, z, t = symbols('x y z t')\n",
            ">>> k, m, n = symbols('k m n', integer=True)\n",
            ">>> f, g, h = symbols('f g h', cls=Function)\n",
            ">>> init_printing()\n",
            "\n",
            "Documentation can be found at https://docs.sympy.org/1.7.1/\n",
            "\n"
          ]
        },
        {
          "output_type": "execute_result",
          "data": {
            "image/png": "[encoded data removed]",
            "text/latex": "$\\displaystyle 12 x \\left(2 x + 17\\right)$",
            "text/plain": [
              "12⋅x⋅(2⋅x + 17)"
            ]
          },
          "metadata": {},
          "execution_count": 38
        }
      ]
    },
    {
      "cell_type": "markdown",
      "metadata": {
        "id": "s0oLps-UxU5L"
      },
      "source": [
        "# Ejercicio 1.b. Derivar:"
      ]
    },
    {
      "cell_type": "code",
      "metadata": {
        "colab": {
          "base_uri": "https://localhost:8080/",
          "height": 38
        },
        "id": "bO6lZp00uUDn",
        "outputId": "b683ac4f-e13d-4048-80ff-d61658246be7"
      },
      "source": [
        "#Punto 2\n",
        "expressioon=(x*log(x))\n",
        "expressioon.diff()\n",
        "\n",
        "Derivative(expressioon,x)\n",
        "expressioon.diff(x)"
      ],
      "execution_count": 39,
      "outputs": [
        {
          "output_type": "execute_result",
          "data": {
            "image/png": "[encoded data removed]",
            "text/latex": "$\\displaystyle \\log{\\left(x \\right)} + 1$",
            "text/plain": [
              "log(x) + 1"
            ]
          },
          "metadata": {},
          "execution_count": 39
        }
      ]
    },
    {
      "cell_type": "markdown",
      "metadata": {
        "id": "Gc_falIfxZLS"
      },
      "source": [
        "# Ejercicio 2.a. Expandir:"
      ]
    },
    {
      "cell_type": "code",
      "metadata": {
        "colab": {
          "base_uri": "https://localhost:8080/",
          "height": 58
        },
        "id": "jmrvSNPlwOb8",
        "outputId": "5dece7dd-32d6-48ea-c9e1-2b44794e6af5"
      },
      "source": [
        "#Hacer estos siguientes ejercicios:\n",
        "#Expandir:\n",
        "\n",
        "expression=(cos(x**4/(y+1)))\n",
        "expression\n",
        "\n",
        "expand(expression, trig=true)"
      ],
      "execution_count": 31,
      "outputs": [
        {
          "output_type": "execute_result",
          "data": {
            "image/png": "[encoded data removed]",
            "text/latex": "$\\displaystyle \\cos{\\left(\\frac{x^{4}}{y + 1} \\right)}$",
            "text/plain": [
              "   ⎛   4 ⎞\n",
              "   ⎜  x  ⎟\n",
              "cos⎜─────⎟\n",
              "   ⎝y + 1⎠"
            ]
          },
          "metadata": {},
          "execution_count": 31
        }
      ]
    },
    {
      "cell_type": "markdown",
      "metadata": {
        "id": "pbJsfSSpx5OS"
      },
      "source": [
        "# Ejercicio 2.b. Factorizar:"
      ]
    },
    {
      "cell_type": "code",
      "metadata": {
        "colab": {
          "base_uri": "https://localhost:8080/",
          "height": 39
        },
        "id": "eLqdkBwJyA4M",
        "outputId": "e5a7a7a8-6287-4873-8e8e-d4062258bede"
      },
      "source": [
        "#Factorizar:\n",
        "\n",
        "expression=(x**2+6*x+9)\n",
        "expression\n",
        "\n",
        "factor(expression)"
      ],
      "execution_count": 32,
      "outputs": [
        {
          "output_type": "execute_result",
          "data": {
            "image/png": "[encoded data removed]",
            "text/latex": "$\\displaystyle \\left(x + 3\\right)^{2}$",
            "text/plain": [
              "       2\n",
              "(x + 3) "
            ]
          },
          "metadata": {},
          "execution_count": 32
        }
      ]
    },
    {
      "cell_type": "markdown",
      "metadata": {
        "id": "yschyw5tyYbH"
      },
      "source": [
        "# 3. De la integral: \n",
        "# a. dejarla explícita\n",
        "# b. Hacer la integral primitiva\n",
        "# c. Evaluarla"
      ]
    },
    {
      "cell_type": "code",
      "metadata": {
        "colab": {
          "base_uri": "https://localhost:8080/",
          "height": 38
        },
        "id": "06IZvjpHyci7",
        "outputId": "6e0abbb5-f53d-456e-d8ac-40ff945ef45a"
      },
      "source": [
        "Expression=((2*x+1)*(x**2+x+1))\n",
        "Expression\n",
        "\n",
        "Integral(Expression)\n",
        "\n",
        "integrate(Expression)\n",
        "\n",
        "integrate(Expression,(x,0,5))\n",
        "\n",
        "Expression.evalf()"
      ],
      "execution_count": 55,
      "outputs": [
        {
          "output_type": "execute_result",
          "data": {
            "image/png": "[encoded data removed]",
            "text/latex": "$\\displaystyle \\left(2.0 x + 1.0\\right) \\left(x^{2} + x + 1.0\\right)$",
            "text/plain": [
              "              ⎛ 2          ⎞\n",
              "(2.0⋅x + 1.0)⋅⎝x  + x + 1.0⎠"
            ]
          },
          "metadata": {},
          "execution_count": 55
        }
      ]
    },
    {
      "cell_type": "markdown",
      "metadata": {
        "id": "nLSOeNAw1J8Z"
      },
      "source": [
        "# 4. De la siguient matrix:\n",
        "# a. encontrar la inversa\n",
        "# b. Encontrar el determinante\n",
        "# c. Encontrar la transpuesta"
      ]
    },
    {
      "cell_type": "code",
      "metadata": {
        "colab": {
          "base_uri": "https://localhost:8080/",
          "height": 78
        },
        "id": "gEfbL8yV1a7A",
        "outputId": "ae0e5105-05d9-4df6-977f-1866ceec7e55"
      },
      "source": [
        "expresion=Matrix([\n",
        "                  [12, -34, -45], \n",
        "                  [-34, -23, 100], \n",
        "                  [45, 12, 23]])\n",
        "expresion\n",
        "\n",
        "#Matriz inversa\n",
        "expresion.inv()\n",
        "\n",
        "#Determinante\n",
        "expresion.det()\n",
        "\n",
        "#Transpuesta\n",
        "expresion.T"
      ],
      "execution_count": 51,
      "outputs": [
        {
          "output_type": "execute_result",
          "data": {
            "text/latex": "$\\displaystyle \\left[\\begin{matrix}12 & -34 & 45\\\\-34 & -23 & 12\\\\-45 & 100 & 23\\end{matrix}\\right]$",
            "text/plain": [
              "⎡12   -34  45⎤\n",
              "⎢            ⎥\n",
              "⎢-34  -23  12⎥\n",
              "⎢            ⎥\n",
              "⎣-45  100  23⎦"
            ]
          },
          "metadata": {},
          "execution_count": 51
        }
      ]
    }
  ]
}